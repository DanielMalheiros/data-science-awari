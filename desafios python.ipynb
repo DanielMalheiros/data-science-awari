{
 "cells": [
  {
   "cell_type": "markdown",
   "metadata": {},
   "source": [
    "Desafio 1\n",
    "\n",
    "Escreva um programa em Python para contabilizar a quantidade de ocorrências de cada palavra."
   ]
  },
  {
   "cell_type": "code",
   "execution_count": 1,
   "metadata": {
    "scrolled": true
   },
   "outputs": [
    {
     "data": {
      "text/plain": [
       "Counter({'red': 4,\n",
       "         'green': 4,\n",
       "         'black': 5,\n",
       "         'pink': 6,\n",
       "         'white': 5,\n",
       "         'eyes': 1,\n",
       "         'orange': 4})"
      ]
     },
     "execution_count": 1,
     "metadata": {},
     "output_type": "execute_result"
    }
   ],
   "source": [
    "palavras = [\n",
    "   'red', 'green', 'black', 'pink', 'black', 'white', 'black', 'eyes',\n",
    "   'white', 'black', 'orange', 'pink', 'pink', 'red', 'red', 'white', 'orange',\n",
    "   'white', \"black\", 'pink', 'green', 'green', 'pink', 'green', 'pink',\n",
    "   'white', 'orange', \"orange\", 'red'\n",
    "]\n",
    "\n",
    "\n",
    "# Seu código\n",
    "from collections import Counter\n",
    "Counter(palavras)"
   ]
  },
  {
   "cell_type": "markdown",
   "metadata": {},
   "source": [
    "Desafio 2\n",
    "\n",
    "Escreva uma função que recebe um número inteiro de horas e a converte em segundos.\n",
    "\n",
    "Exemplo:\n",
    "\n",
    "convert(5) ➞ 18000\n",
    "\n",
    "convert(3) ➞ 10800\n",
    "\n",
    "convert(2) ➞ 7200"
   ]
  },
  {
   "cell_type": "code",
   "execution_count": 3,
   "metadata": {},
   "outputs": [],
   "source": [
    "def convert_to_sec(number):\n",
    "    number2 = number * 3600\n",
    "    print(number2)"
   ]
  },
  {
   "cell_type": "markdown",
   "metadata": {},
   "source": [
    "Desafio 3\n",
    "\n",
    "Escreva uma função que receba uma lista e retorne uma nova lista ordenada e sem valores duplicados."
   ]
  },
  {
   "cell_type": "code",
   "execution_count": 5,
   "metadata": {},
   "outputs": [
    {
     "data": {
      "text/plain": [
       "[1, 2, 3, 4, 5, 6, 9, 13, 15, 30, 45]"
      ]
     },
     "execution_count": 5,
     "metadata": {},
     "output_type": "execute_result"
    }
   ],
   "source": [
    "lista = [1,2,3,4,3,30,3,4,5,6,9,3,2,1,2,4,5,15,6,6,3,13,4,45,5]\n",
    "\n",
    "# Seu código\n",
    "def remove_repetidos(lista):\n",
    "    l = []\n",
    "    for i in lista:\n",
    "        if i not in l:\n",
    "            l.append(i)\n",
    "    l.sort()\n",
    "    lista.sort()\n",
    "    return l\n",
    "\n",
    "remove_repetidos(lista)"
   ]
  },
  {
   "cell_type": "markdown",
   "metadata": {},
   "source": [
    "Desafio 4\n",
    "\n",
    "Escreva uma função que receba uma string como parâmetro e retorne outra string com as palavras em ordem inversa.\n",
    "\n",
    "Exemplo:\n",
    "\n",
    "inverte_texto(\"Python é legal\") ➞ \"legal é Python\""
   ]
  },
  {
   "cell_type": "code",
   "execution_count": 9,
   "metadata": {},
   "outputs": [
    {
     "name": "stdout",
     "output_type": "stream",
     "text": [
      "legal é Python\n"
     ]
    }
   ],
   "source": [
    "# Seu código\n",
    "from collections import deque\n",
    "def inverter(text):\n",
    "    lista = text.split(' ')\n",
    "    lista_reversa = lista[::-1]\n",
    "    texto_reverso = ' '.join(lista_reversa)\n",
    "    print(texto_reverso)\n",
    "\n",
    "\n",
    "inverter(\"Python é legal\")"
   ]
  },
  {
   "cell_type": "markdown",
   "metadata": {},
   "source": [
    "Desafio 5\n",
    "\n",
    "Você trabalha em uma loja de sapatos e deve contatar uma lista de clientes dada pela seguinte lista de números de telefones:"
   ]
  },
  {
   "cell_type": "code",
   "execution_count": 10,
   "metadata": {},
   "outputs": [],
   "source": [
    "numeros_telefone = [\n",
    "'(765) 368-1506',\n",
    "'(285) 608-2448',\n",
    "'(255) 826-9050',\n",
    "'(554) 994-1517',\n",
    "'(285) 608-2448',\n",
    "'(596) 336-5508',\n",
    "'(511) 821-7870',\n",
    "'(410) 665-4447',\n",
    "'(821) 642-8987',\n",
    "'(285) 608-2448',\n",
    "'(311) 799-3883',\n",
    "'(935) 875-2054',\n",
    "'(464) 788-2397',\n",
    "'(765) 368-1506',\n",
    "'(650) 684-1437',\n",
    "'(812) 816-0881',\n",
    "'(285) 608-2448',\n",
    "'(885) 407-1719',\n",
    "'(943) 769-1061',\n",
    "'(596) 336-5508',\n",
    "'(765) 368-1506',\n",
    "'(255) 826-9050',\n",
    "]"
   ]
  },
  {
   "cell_type": "markdown",
   "metadata": {},
   "source": [
    "No entanto, alguns destes números estão duplicados. Você seria capaz de remover estes duplicados para evitar que clientes sejam contatado mais de uma vez?"
   ]
  },
  {
   "cell_type": "code",
   "execution_count": 11,
   "metadata": {},
   "outputs": [
    {
     "data": {
      "text/plain": [
       "['(255) 826-9050',\n",
       " '(285) 608-2448',\n",
       " '(311) 799-3883',\n",
       " '(410) 665-4447',\n",
       " '(464) 788-2397',\n",
       " '(511) 821-7870',\n",
       " '(554) 994-1517',\n",
       " '(596) 336-5508',\n",
       " '(650) 684-1437',\n",
       " '(765) 368-1506',\n",
       " '(812) 816-0881',\n",
       " '(821) 642-8987',\n",
       " '(885) 407-1719',\n",
       " '(935) 875-2054',\n",
       " '(943) 769-1061']"
      ]
     },
     "execution_count": 11,
     "metadata": {},
     "output_type": "execute_result"
    }
   ],
   "source": [
    "def remove_repetidos(lista):\n",
    "    l = []\n",
    "    for i in lista:\n",
    "        if i not in l:\n",
    "            l.append(i)\n",
    "    l.sort()\n",
    "    lista.sort()\n",
    "    return l\n",
    "\n",
    "\n",
    "remove_repetidos(numeros_telefone)"
   ]
  },
  {
   "cell_type": "markdown",
   "metadata": {},
   "source": [
    "Desafio 6\n",
    "\n",
    "Crie uma função que receba duas listas e retorne uma lista que contenha apenas os elementos comuns entre as listas (sem repetição). A função deve suportar lista de tamanhos diferentes.\n",
    "\n",
    "listas:\n",
    "\n",
    "a = [1, 1, 2, 3, 5, 8, 13, 21, 34, 55, 89]\n",
    "\n",
    "b = [1, 2, 3, 4, 5, 6, 7, 8, 9, 10, 11, 12, 13]"
   ]
  },
  {
   "cell_type": "code",
   "execution_count": 12,
   "metadata": {},
   "outputs": [
    {
     "name": "stdout",
     "output_type": "stream",
     "text": [
      "[1, 1, 2, 3, 5, 8, 13]\n"
     ]
    }
   ],
   "source": [
    "a = [1, 1, 2, 3, 5, 8, 13, 21, 34, 55, 89]\n",
    "\n",
    "b = [1, 2, 3, 4, 5, 6, 7, 8, 9, 10, 11, 12, 13]\n",
    "igual = []\n",
    "for num in a:\n",
    "    if num in b:\n",
    "        igual.append(num)\n",
    "        \n",
    "print(igual)"
   ]
  },
  {
   "cell_type": "markdown",
   "metadata": {},
   "source": [
    "Desafio 7\n",
    "\n",
    "Um professor de universidade tem uma turma com os seguintes números de telefones:"
   ]
  },
  {
   "cell_type": "code",
   "execution_count": 13,
   "metadata": {},
   "outputs": [],
   "source": [
    "telefones_alunos = ['(873) 810-8267', '(633) 244-7325', '(300) 303-5462', \n",
    "                    '(938) 300-8890', '(429) 264-7427', '(737) 805-2326', \n",
    "                    '(768) 956-8497', '(941) 225-3869', '(203) 606-9463', \n",
    "                    '(294) 430-7720', '(896) 781-5087', '(397) 845-8267', \n",
    "                    '(788) 717-6858', '(419) 734-4188', '(682) 595-3278', \n",
    "                    '(835) 955-1498', '(296) 415-9944', '(897) 932-2512', \n",
    "                    '(263) 415-3893', '(822) 640-8496', '(640) 427-2597', \n",
    "                    '(856) 338-7094', '(807) 554-4076', '(641) 367-5279', \n",
    "                    '(828) 866-0696', '(727) 376-5749', '(921) 948-2244', \n",
    "                    '(964) 710-9625', '(596) 685-1242', '(403) 343-7705', \n",
    "                    '(227) 389-3685', '(264) 372-7298', '(797) 649-3653', \n",
    "                    '(374) 361-3844', '(618) 490-4228', '(987) 803-5550', \n",
    "                    '(228) 976-9699', '(757) 450-9985', '(491) 666-5367',\n",
    "                    ]"
   ]
  },
  {
   "cell_type": "markdown",
   "metadata": {},
   "source": [
    "Ele criou um grupo do whatapp no entanto somente os seguintes números entraram:"
   ]
  },
  {
   "cell_type": "code",
   "execution_count": 14,
   "metadata": {},
   "outputs": [],
   "source": [
    "entraram_no_grupo = ['(596) 685-1242', '(727) 376-5749', '(987) 803-5550', \n",
    "                     '(633) 244-7325', '(828) 866-0696', '(263) 415-3893', \n",
    "                     '(203) 606-9463', '(296) 415-9944', '(419) 734-4188', \n",
    "                     '(618) 490-4228', '(682) 595-3278', '(938) 300-8890', \n",
    "                     '(264) 372-7298', '(768) 956-8497', '(737) 805-2326', \n",
    "                     '(788) 717-6858', '(228) 976-9699', '(896) 781-5087',\n",
    "                     '(374) 361-3844', '(921) 948-2244', '(807) 554-4076', \n",
    "                     '(822) 640-8496', '(227) 389-3685', '(429) 264-7427', \n",
    "                     '(397) 845-8267']"
   ]
  },
  {
   "cell_type": "markdown",
   "metadata": {},
   "source": [
    "Você seria capaz de criar uma lista dos alunos que ainda não entraram no grupo para que sejam contatados individualmente?"
   ]
  },
  {
   "cell_type": "code",
   "execution_count": 15,
   "metadata": {},
   "outputs": [
    {
     "name": "stdout",
     "output_type": "stream",
     "text": [
      "['(873) 810-8267', '(300) 303-5462', '(941) 225-3869', '(294) 430-7720', '(835) 955-1498', '(897) 932-2512', '(640) 427-2597', '(856) 338-7094', '(641) 367-5279', '(964) 710-9625', '(403) 343-7705', '(797) 649-3653', '(757) 450-9985', '(491) 666-5367']\n"
     ]
    }
   ],
   "source": [
    "faltando = []\n",
    "for aluno in telefones_alunos:\n",
    "    if aluno not in entraram_no_grupo:\n",
    "        faltando.append(aluno)\n",
    "        \n",
    "print(faltando)"
   ]
  },
  {
   "cell_type": "markdown",
   "metadata": {},
   "source": [
    "Desafio 8\n",
    "\n",
    "Escreva um script Python para encontrar as 10 palavras mais longas em um arquivo.\n",
    "\n",
    "O arquivo TXT está localizado na mesma pasta do projeto (texto.txt)."
   ]
  },
  {
   "cell_type": "code",
   "execution_count": 16,
   "metadata": {},
   "outputs": [],
   "source": [
    "def top10(arquivo):\n",
    "    df = open(arquivo, 'r')\n",
    "    df_split = df.read().split()\n",
    "    lista_ordenada = sorted(df_split, key=len)\n",
    "    lista_ordenada.reverse()\n",
    "    print(lista_ordenada[0:10])\n",
    "    \n",
    "top10('texto.txt')"
   ]
  },
  {
   "cell_type": "markdown",
   "metadata": {},
   "source": [
    "Desafio 9\n",
    "\n",
    "Escreva uma função que retorne a soma dos múltiplos de 3 e 5 entre 0 e um número limite (parâmetro). Por exemplo, se o limite for 20, ele retornará a soma de 3, 5, 6, 9, 10, 12, 15, 18, 20."
   ]
  },
  {
   "cell_type": "code",
   "execution_count": 18,
   "metadata": {},
   "outputs": [
    {
     "name": "stdout",
     "output_type": "stream",
     "text": [
      "78\n"
     ]
    }
   ],
   "source": [
    "# Seu código\n",
    "def multiplos(n):\n",
    "    multiplos = []\n",
    "    for i in range(n):\n",
    "        if((i%3==0)or(i%5==0)):\n",
    "            multiplos.append(i)\n",
    "    print(sum(multiplos))\n",
    "\n",
    "multiplos(20)"
   ]
  },
  {
   "cell_type": "markdown",
   "metadata": {},
   "source": [
    "Desafio 10\n",
    "\n",
    "Dada uma lista, divida-a em 3 partes iguais e reverta cada lista.\n",
    "\n",
    "Exemplo:\n",
    "\n",
    "sampleList = [11, 45, 8, 23, 14, 12, 78, 45, 89]\n",
    "\n",
    "Parte 1 [8, 45, 11]\n",
    "\n",
    "Parte 2 [12, 14, 23]\n",
    "\n",
    "Parte 3 [89, 45, 78]"
   ]
  },
  {
   "cell_type": "code",
   "execution_count": 20,
   "metadata": {},
   "outputs": [
    {
     "data": {
      "text/plain": [
       "[[10, 20, 30], [40, 50, 60], [70, 80, 90]]"
      ]
     },
     "execution_count": 20,
     "metadata": {},
     "output_type": "execute_result"
    }
   ],
   "source": [
    "lista = [10,20,30,40,50,60,70,80,90]\n",
    "dados = [lista[0:3], lista[3:6], lista[6:9]]\n",
    "\n",
    "dados"
   ]
  },
  {
   "cell_type": "markdown",
   "metadata": {},
   "source": [
    "Desafio 8\n",
    "\n",
    "Dados uma sequência com n números inteiros, determinar quantos números da sequência são pares e quantos são ímpares. Por exemplo, para a sequência\n",
    "\n",
    "6   2   7  -5   8  -4\n",
    "\n",
    "a sua função deve retornar o número 4 para o número de pares e 2 para o de ímpares. A saída deve ser um tupla contendo primeiramente o número de pares e em seguida o número de ímpares. Para o exemplo anterior, a saída seria (4, 2)."
   ]
  },
  {
   "cell_type": "code",
   "execution_count": 22,
   "metadata": {},
   "outputs": [
    {
     "name": "stdout",
     "output_type": "stream",
     "text": [
      "(4,2)\n"
     ]
    }
   ],
   "source": [
    "# Seu código\n",
    "lista = [6, 2, 7, -5, 8, -4]\n",
    "\n",
    "def contar(lista):\n",
    "    par = 0\n",
    "    impar = 0\n",
    "    for num in lista:\n",
    "        if (num%2) == 0:\n",
    "            par += 1\n",
    "        else:\n",
    "            impar += 1\n",
    "    lista_final = '('+str(par)+','+str(impar)+')'      \n",
    "    print(lista_final)\n",
    "    \n",
    "contar(lista)"
   ]
  },
  {
   "cell_type": "markdown",
   "metadata": {},
   "source": [
    "Desafio 12\n",
    "\n",
    "Escreva uma função em Python para verificar a validade de uma senha.\n",
    "\n",
    "Validação:\n",
    "\n",
    "Pelo menos 1 letra entre [a-z] e 1 letra entre [A-Z].\n",
    "Pelo menos 1 número entre [0-9].\n",
    "Pelo menos 1 caractere de [$ # @].\n",
    "Comprimento mínimo de 6 caracteres.\n",
    "Comprimento máximo de 16 caracteres.\n",
    "Entradas: \"12345678\", \"J3sus0\", \"#Te5t300\", \"J*90j12374\", \"Michheeul\", \"Monk3y6\"\n",
    "\n",
    "A saída deve ser a senha e um texto indicando se a senha é válida ou inválida:\n",
    "\n",
    "\"1234\" - Senha inválida\n",
    "\"Qw#1234\" - Senha válida"
   ]
  },
  {
   "cell_type": "code",
   "execution_count": 23,
   "metadata": {},
   "outputs": [
    {
     "name": "stdout",
     "output_type": "stream",
     "text": [
      "Precisa conter maiúsculas! 1\n",
      "Precisa conter minúsculas! 1\n",
      "Precisa conter caracteres especiais \"@#$\" 1\n",
      "Precisa conter caracteres especiais \"@#$\" 1\n",
      "senha validada\n",
      "Precisa conter caracteres especiais \"@#$\" 1\n",
      "Precisa conter números! 1\n",
      "Precisa conter caracteres especiais \"@#$\" 1\n",
      "Precisa conter caracteres especiais \"@#$\" 1\n"
     ]
    }
   ],
   "source": [
    "\n",
    "import re\n",
    "def test_password(password):\n",
    "    \n",
    "    min_number = 1\n",
    "    min_upper_char = 1\n",
    "    min_lower_char = 1\n",
    "    min_special_char = 1\n",
    "    min_len = 6\n",
    "    max_len = 16\n",
    "    \n",
    "    if len(password) < min_len:\n",
    "        print('Tamanho minimo de:', min_len)\n",
    "    if len(password) >max_len:\n",
    "        print('Tamanho máximo de:', max_len)\n",
    "    if len(re.findall(r\"[A-Z]\", password)) < min_upper_char:\n",
    "        print('Precisa conter maiúsculas!', min_upper_char)\n",
    "    if len(re.findall(r\"[a-z]\", password)) < min_lower_char:\n",
    "        print('Precisa conter minúsculas!', min_lower_char)\n",
    "    if len(re.findall(r\"[0-9]\", password)) < min_number:\n",
    "        print('Precisa conter números!', min_number)\n",
    "    if len(re.findall(r\"[@#$]\", password)) < min_special_char:\n",
    "        print('Precisa conter caracteres especiais \"@#$\"', min_special_char)\n",
    "    else:\n",
    "        print('senha validada')\n",
    "    \n",
    "test_password(\"12345678\")\n",
    "test_password(\"J3sus0\")\n",
    "test_password(\"#Te5t300\")\n",
    "test_password(\"J*90j12374\")\n",
    "test_password(\"Michheeul\")\n",
    "test_password(\"Monk3y6\")\n",
    "\n",
    "\n",
    "        #raise forms.ValidationError('Senha tem que ter no mínimo '+str(minimal_len_char)+' caracteres')\n",
    "#    if len(re.findall(r\"[A-Z]\", password)) < minimal_upper_char:\n",
    "#        raise forms.ValidationError('Senha tem que ter no mínimo '+str(minimal_upper_char)+' letras maiusculas')\n",
    "#    if len(re.findall(r\"[a-z]\", password)) < minimal_lower_char:\n",
    "#        raise forms.ValidationError('Senha tem que ter no mínimo '+str(minimal_lower_char)+' letras minusculas')\n",
    "#    if len(re.findall(r\"[0-9]\", password)) < minimal_number:\n",
    "#        raise forms.ValidationError('Senha tem que ter no mínimo '+str(minimal_number)+' numeros')\n",
    "#    if len(re.findall(r\"[~`!@#$%^&*()_+=-{};:'><]\", password)) < minimal_special_char:\n",
    "#        raise forms.ValidationError('Senha tem que ter no mínimo '+str(minimal_special_char)+' caracteres especiais')"
   ]
  },
  {
   "cell_type": "code",
   "execution_count": null,
   "metadata": {},
   "outputs": [],
   "source": []
  }
 ],
 "metadata": {
  "kernelspec": {
   "display_name": "Python 3",
   "language": "python",
   "name": "python3"
  },
  "language_info": {
   "codemirror_mode": {
    "name": "ipython",
    "version": 3
   },
   "file_extension": ".py",
   "mimetype": "text/x-python",
   "name": "python",
   "nbconvert_exporter": "python",
   "pygments_lexer": "ipython3",
   "version": "3.7.4"
  }
 },
 "nbformat": 4,
 "nbformat_minor": 2
}
